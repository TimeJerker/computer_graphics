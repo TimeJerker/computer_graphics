{
 "cells": [
  {
   "cell_type": "code",
   "execution_count": 78,
   "id": "c8226ae2-6c10-492d-8d64-3582e6ae5828",
   "metadata": {},
   "outputs": [],
   "source": [
    "from PIL import Image\n",
    "import numpy as np\n",
    "import math\n",
    "import random\n",
    "from PIL import ImageOps\n",
    "file = open('model_1.obj', 'r')\n",
    "v = []\n",
    "f = []\n",
    "z_buffer = np.full((1000,1000), np.inf, dtype = np.float32)\n",
    "img_mat = np.zeros((1000, 1000, 3), dtype = np.uint8)\n",
    "for str in file:\n",
    "    splitted_str = str.split()\n",
    "    if(splitted_str[0] == 'v'):\n",
    "        v.append((float(splitted_str[1]),float(splitted_str[2]),float(splitted_str[3])))\n",
    "    if(splitted_str[0] == 'f'):\n",
    "        f.append((int(splitted_str[1].split('/')[0]),int(splitted_str[2].split('/')[0]),int(splitted_str[3].split('/')[0])))\n",
    "for i in range(len(f)):\n",
    "        x0 = v[f[i][0]-1][0]* 5000 + 500\n",
    "        y0 = v[f[i][0]-1][1]* 5000 + 250\n",
    "        z0 = v[f[i][0]-1][2]* 5000 + 200\n",
    "        x1 = v[f[i][1]-1][0]* 5000 + 500\n",
    "        y1 = v[f[i][1]-1][1]* 5000 + 250\n",
    "        z1 = v[f[i][1]-1][2]* 5000 + 200\n",
    "        x2 = v[f[i][2]-1][0]* 5000 + 500\n",
    "        y2 = v[f[i][2]-1][1]* 5000 + 250\n",
    "        z2 = v[f[i][2]-1][2]* 5000 + 200\n",
    "        \n",
    "        n = normale(x0,y0,z0,x1,y1,z1,x2,y2,z2)\n",
    "        cosA = scalar(n)\n",
    "        if (cosA < 0):\n",
    "            triangle_infill(x0,y0,x1,y1,x2,y2, img_mat, cosA, z0, z1, z2)\n",
    "        # x_loop_finalll(img_mat, x0, y0, x1, y1)\n",
    "        # x_loop_finalll(img_mat, x1, y1, x2, y2)\n",
    "        # x_loop_finalll(img_mat, x2, y2, x0, y0)\n",
    "img = Image.fromarray(img_mat, mode='RGB')\n",
    "im = ImageOps.flip(img)\n",
    "im.save(\"triangle_rabbit_with_trace_gradient.png\")"
   ]
  },
  {
   "cell_type": "code",
   "execution_count": 4,
   "id": "21dc486c-fe4b-41b6-ad42-6e04e8234580",
   "metadata": {},
   "outputs": [],
   "source": [
    "#алгоритм Брезенхема\n",
    "def x_loop_finalll(img_mat, x0, y0, x1, y1):\n",
    "    flag = False\n",
    "    if(abs(x0-x1) < abs(y0-y1)):\n",
    "        x0, y0 = y0, x0\n",
    "        x1, y1 = y1, x1\n",
    "        flag = True;\n",
    "    if(x1<x0):\n",
    "        x0, x1 = x1, x0\n",
    "        y0, y1 = y1, y0\n",
    "    y = y0\n",
    "    dy = 2 * abs((y1-y0))\n",
    "    derror = 0\n",
    "    y_update= 1 if y1 > y0 else -1\n",
    "    for x in range(x0, x1):\n",
    "        if(flag):\n",
    "            img_mat[x,y,1] = 255\n",
    "        else:\n",
    "            img_mat[y,x,1] = 255\n",
    "        derror += dy\n",
    "        if (derror > (x1-x0)):\n",
    "            derror -= 2 * (x1-x0)\n",
    "            y += y_update"
   ]
  },
  {
   "cell_type": "code",
   "execution_count": 77,
   "id": "3464b78f-7efa-4b52-b614-892a32d2519e",
   "metadata": {
    "scrolled": true
   },
   "outputs": [],
   "source": [
    "\n",
    "# canvas = np.zeros((1000, 1000, 3), dtype = np.uint8)\n",
    "\n",
    "def triangle_infill(x0, y0, x1, y1, x2, y2, canvas, cosA, z0, z1, z2):\n",
    "    # color0 = random.randint(0,255)\n",
    "    # color1 = random.randint(0,255)\n",
    "    # color2 = random.randint(0,255)\n",
    "    \n",
    "    xmin = min(x0, x1, x2)-1\n",
    "    ymin = min(y0, y1, y2)-1\n",
    "    xmax = max(x0, x1, x2)+1\n",
    "    ymax = max(y0, y1, y2)+1\n",
    "    \n",
    "    if(xmin < 0):\n",
    "        xmin = 0\n",
    "    if(ymin < 0):\n",
    "        ymin = 0\n",
    "    for x in range(math.ceil(xmin), math.floor(xmax)):\n",
    "        for y in range(math.ceil(ymin), math.floor(ymax)):\n",
    "            lambd0, lambd1, lambd2 = bar_coord(x0, y0, x1, y1, x2, y2, x, y)\n",
    "            if (lambd0 >= 0 and lambd1 >= 0 and lambd2 >= 0):\n",
    "                canvas[y,x] = (-255 * cosA, -255 * cosA, -255 * cosA)\n",
    "                # z_display= lambd0*z0 + lambd1*z1 + lambd2*z2\n",
    "                # if(z_buffer[y,x] > z_display):\n",
    "                #     canvas[y,x] = (-255 * cosA, -255 * cosA, -255 * cosA)\n",
    "                #     z_buffer[y,x] = z_display\n",
    "\n",
    "                \n",
    "# bar_coord_2(-100,1,-100,100,1000,500)\n",
    "# images = Image.fromarray(canvas, mode='RGB')\n",
    "# images.save(\"triangle.png\")"
   ]
  },
  {
   "cell_type": "code",
   "execution_count": 29,
   "id": "2be57a7b-1a43-4467-9d7a-9b8b7776aafa",
   "metadata": {},
   "outputs": [],
   "source": [
    "#Барицентрические координаты 1\n",
    "\n",
    "def bar_coord(x0, y0, x1, y1, x2, y2, x, y):\n",
    "    lambd0 = ((x - x2) * (y1 - y2) - (x1 - x2) * (y - y2)) /  ((x0 - x2) * (y1 - y2) - (x1 - x2) * (y0 - y2)) \n",
    "    lambd1 = ((x0 - x2) * (y - y2) - (x - x2) * (y0 - y2)) /  ((x0 - x2) * (y1 - y2) - (x1 - x2) * (y0 - y2)) \n",
    "    lambd2 = 1.0 - lambd0 - lambd1\n",
    "    return lambd0, lambd1, lambd2\n"
   ]
  },
  {
   "cell_type": "code",
   "execution_count": 53,
   "id": "c2f0053c-093a-4c77-86e9-720c85b501b9",
   "metadata": {},
   "outputs": [],
   "source": [
    "# вычисление нормали\n",
    "\n",
    "def normale(x0,y0,z0,x1,y1,z1,x2,y2,z2):\n",
    "    n = [0] * 3\n",
    "    n[0] = ((y1-y2) * (z1-z0)) - ((z1-z2) * (y1-y0))\n",
    "    n[1] = ((x1-x2) * (z1-z0)) - ((z1-z2) * (x1-x0))\n",
    "    n[2] = ((x1-x2) * (y1-y0)) - ((y1-y2) * (x1-x0))\n",
    "    return n"
   ]
  },
  {
   "cell_type": "code",
   "execution_count": 65,
   "id": "21387928-2507-44d6-b63e-085bc9452ebe",
   "metadata": {},
   "outputs": [],
   "source": [
    "# скалярное произведение\n",
    "\n",
    "def scalar(n):\n",
    "    cosA = n[2]/ math.sqrt(n[0]**2 + n[1]**2 + n[2]**2)\n",
    "    return cosA"
   ]
  },
  {
   "cell_type": "code",
   "execution_count": null,
   "id": "08266e48-2a72-4a33-80af-4626ef2c6a1e",
   "metadata": {},
   "outputs": [],
   "source": []
  }
 ],
 "metadata": {
  "kernelspec": {
   "display_name": "Python 3 (ipykernel)",
   "language": "python",
   "name": "python3"
  },
  "language_info": {
   "codemirror_mode": {
    "name": "ipython",
    "version": 3
   },
   "file_extension": ".py",
   "mimetype": "text/x-python",
   "name": "python",
   "nbconvert_exporter": "python",
   "pygments_lexer": "ipython3",
   "version": "3.13.2"
  }
 },
 "nbformat": 4,
 "nbformat_minor": 5
}
