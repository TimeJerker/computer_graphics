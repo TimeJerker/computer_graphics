{
 "cells": [
  {
   "cell_type": "code",
   "execution_count": 32,
   "id": "394f90ce-35a7-4516-acb4-d464a97ea950",
   "metadata": {},
   "outputs": [],
   "source": [
    "from PIL import Image\n",
    "import numpy as np\n",
    "import math\n",
    "import random\n",
    "from PIL import ImageOps\n",
    "file = open('model_1.obj', 'r')\n",
    "v = []\n",
    "f = []\n",
    "z_buffer = np.full((1000,1000), np.inf, dtype = np.float32)\n",
    "img_mat = np.zeros((1000, 1000, 3), dtype = np.uint8)\n",
    "for str in file:\n",
    "    splitted_str = str.split()\n",
    "    if(splitted_str[0] == 'v'):\n",
    "        v.append((float(splitted_str[1]),float(splitted_str[2]),float(splitted_str[3])))\n",
    "    if(splitted_str[0] == 'f'):\n",
    "        f.append((int(splitted_str[1].split('/')[0]),int(splitted_str[2].split('/')[0]),int(splitted_str[3].split('/')[0])))\n",
    "        \n",
    "for h in range(len(v)):\n",
    "    v[h] = rotate(0,-15,0,v[h])\n",
    "\n",
    "for i in range(len(f)):\n",
    "    \n",
    "    x0 = v[f[i][0]-1][0]\n",
    "    y0 = v[f[i][0]-1][1]\n",
    "    z0 = v[f[i][0]-1][2]\n",
    "    x1 = v[f[i][1]-1][0]\n",
    "    y1 = v[f[i][1]-1][1]\n",
    "    z1 = v[f[i][1]-1][2]\n",
    "    x2 = v[f[i][2]-1][0]\n",
    "    y2 = v[f[i][2]-1][1]\n",
    "    z2 = v[f[i][2]-1][2]\n",
    "\n",
    "    n = normale(x0,y0,z0,x1,y1,z1,x2,y2,z2)\n",
    "    cosA = scalar(n)\n",
    "    if (cosA < 0):\n",
    "        triangle_infill(x0,y0,x1,y1,x2,y2, img_mat, cosA, z0, z1, z2, z_buffer)\n",
    "    # x_loop_finalll(img_mat, x0, y0, x1, y1)\n",
    "    # x_loop_finalll(img_mat, x1, y1, x2, y2)\n",
    "    # x_loop_finalll(img_mat, x2, y2, x0, y0)\n",
    "img = Image.fromarray(img_mat, mode='RGB')\n",
    "im = ImageOps.flip(img)\n",
    "im.save(\"rabbit_rotate_value.png\")"
   ]
  },
  {
   "cell_type": "code",
   "execution_count": 31,
   "id": "28c79e10-0d49-4013-9f06-14d671fd8268",
   "metadata": {},
   "outputs": [],
   "source": [
    "def triangle_infill(x0, y0, x1, y1, x2, y2, canvas, cosA, z0, z1, z2, z_buffer):\n",
    "    \n",
    "    x0_p = x0 * 1500/z0 + 500\n",
    "    y0_p = y0 * 1500/z0 + 500\n",
    "    x1_p = x1 * 1500/z1 + 500\n",
    "    y1_p = y1 * 1500/z1 + 500\n",
    "    x2_p = x2 * 1500/z2 + 500\n",
    "    y2_p = y2 * 1500/z2 + 500\n",
    "        \n",
    "    xmin = min(x0_p, x1_p, x2_p)-1\n",
    "    ymin = min(y0_p, y1_p, y2_p)-1\n",
    "    xmax = max(x0_p, x1_p, x2_p)+1\n",
    "    ymax = max(y0_p, y1_p, y2_p)+1\n",
    "    \n",
    "    if(xmin < 0):\n",
    "        xmin = 0\n",
    "    if(ymin < 0):\n",
    "        ymin = 0\n",
    "    for x in range(math.ceil(xmin), math.floor(xmax)):\n",
    "        for y in range(math.ceil(ymin), math.floor(ymax)):\n",
    "            lambd0, lambd1, lambd2 = bar_coord(x0_p, y0_p, x1_p, y1_p, x2_p, y2_p, x, y)\n",
    "            \n",
    "            if (lambd0 >= 0 and lambd1 >= 0 and lambd2 >= 0): \n",
    "                z_display= lambd0*z0 + lambd1*z1 + lambd2*z2\n",
    "                if(z_buffer[y,x] > z_display):\n",
    "                    canvas[y,x] = (-255 * cosA, -255 * cosA, -255 * cosA) \n",
    "                    z_buffer[y,x] = z_display\n",
    "\n",
    "    "
   ]
  },
  {
   "cell_type": "code",
   "execution_count": 13,
   "id": "fa6db790-c77e-47fc-aba1-03b72d43b998",
   "metadata": {},
   "outputs": [],
   "source": [
    "#Барицентрические координаты 1\n",
    "\n",
    "def bar_coord(x0, y0, x1, y1, x2, y2, x, y):\n",
    "    lambd0 = ((x - x2) * (y1 - y2) - (x1 - x2) * (y - y2)) /  ((x0 - x2) * (y1 - y2) - (x1 - x2) * (y0 - y2)) \n",
    "    lambd1 = ((x0 - x2) * (y - y2) - (x - x2) * (y0 - y2)) /  ((x0 - x2) * (y1 - y2) - (x1 - x2) * (y0 - y2)) \n",
    "    lambd2 = 1.0 - lambd0 - lambd1\n",
    "    return lambd0, lambd1, lambd2"
   ]
  },
  {
   "cell_type": "code",
   "execution_count": 14,
   "id": "d69fcb29-1419-44e2-80c2-5d5f822d430f",
   "metadata": {},
   "outputs": [],
   "source": [
    "# вычисление нормали\n",
    "\n",
    "def normale(x0,y0,z0,x1,y1,z1,x2,y2,z2):\n",
    "    n = [0] * 3\n",
    "    n[0] = ((y1-y2) * (z1-z0)) - ((z1-z2) * (y1-y0))\n",
    "    n[1] = ((x1-x2) * (z1-z0)) - ((z1-z2) * (x1-x0))\n",
    "    n[2] = ((x1-x2) * (y1-y0)) - ((y1-y2) * (x1-x0))\n",
    "    return n"
   ]
  },
  {
   "cell_type": "code",
   "execution_count": 15,
   "id": "b23c7e8c-c466-47eb-a426-dda1a064f5d3",
   "metadata": {},
   "outputs": [],
   "source": [
    "# скалярное произведение\n",
    "\n",
    "def scalar(n):\n",
    "    cosA = n[2]/ math.sqrt(n[0]**2 + n[1]**2 + n[2]**2)\n",
    "    return cosA"
   ]
  },
  {
   "cell_type": "code",
   "execution_count": 26,
   "id": "1d120796-a576-43ab-9eaf-f671d6d02c6f",
   "metadata": {},
   "outputs": [],
   "source": [
    "#поворот модели\n",
    "def rotate(a, b, c, v):\n",
    "    \n",
    "    shift = np.array([0,-0.03,0.2])\n",
    "    matrixRa = np.array([[1,0,0],[0, math.cos(a),math.sin(a)],[0,-1*math.sin(a), math.cos(a)]])\n",
    "    matrixRb = np.array([[math.cos(b),0,math.sin(b)],[0,1,0],[-1*math.sin(b),0,math.cos(b)]])\n",
    "    matrixRc = np.array([[math.cos(c),math.sin(c),0],[-1*math.sin(c),math.cos(c),0],[0,0,1]])\n",
    "    R = matrixRa @ matrixRb @ matrixRc\n",
    "    result = np.dot(R, v) + shift\n",
    "    return result"
   ]
  },
  {
   "cell_type": "code",
   "execution_count": 17,
   "id": "f12ef9b2-b68a-46dd-9116-4a65507341b6",
   "metadata": {},
   "outputs": [],
   "source": [
    "# проективное преобразования\n",
    "def transf(v):\n",
    "    vect = []"
   ]
  }
 ],
 "metadata": {
  "kernelspec": {
   "display_name": "Python 3 (ipykernel)",
   "language": "python",
   "name": "python3"
  },
  "language_info": {
   "codemirror_mode": {
    "name": "ipython",
    "version": 3
   },
   "file_extension": ".py",
   "mimetype": "text/x-python",
   "name": "python",
   "nbconvert_exporter": "python",
   "pygments_lexer": "ipython3",
   "version": "3.13.2"
  }
 },
 "nbformat": 4,
 "nbformat_minor": 5
}
